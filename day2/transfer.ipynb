{
 "cells": [
  {
   "cell_type": "markdown",
   "metadata": {},
   "source": [
    "# Transfer learning\n",
    "\n",
    "We will load a pretrained model (our model trained on MNIST) and fine-tune it on the more complex KMNIST dataset http://codh.rois.ac.jp/kmnist/index.html.en (https://github.com/rois-codh/kmnist)\n",
    "\n",
    "\n",
    "![](kmnist.png)\n",
    "\n",
    "We also address the following question:\n",
    "- how different are the two datasets?"
   ]
  },
  {
   "cell_type": "code",
   "execution_count": 1,
   "metadata": {},
   "outputs": [],
   "source": [
    "%reload_ext autoreload\n",
    "%autoreload 2\n",
    "%matplotlib inline"
   ]
  },
  {
   "cell_type": "code",
   "execution_count": 2,
   "metadata": {},
   "outputs": [],
   "source": [
    "from __future__ import print_function\n",
    "import argparse\n",
    "import torch\n",
    "import torch.nn as nn\n",
    "import torch.nn.functional as F\n",
    "import torch.optim as optim\n",
    "from torchvision import datasets, transforms\n",
    "from torchsummary import summary\n",
    "\n",
    "import numpy as np\n",
    "from matplotlib import pyplot as plt"
   ]
  },
  {
   "cell_type": "code",
   "execution_count": 3,
   "metadata": {},
   "outputs": [],
   "source": [
    "class Net(nn.Module):\n",
    "    def __init__(self):\n",
    "        super(Net, self).__init__()\n",
    "        self.conv1 = nn.Conv2d(1, 20, 5, 1)\n",
    "        self.conv2 = nn.Conv2d(20, 50, 5, 1)\n",
    "        self.fc1 = nn.Linear(4*4*50, 500)\n",
    "        self.fc2 = nn.Linear(500, 10)\n",
    "\n",
    "    def forward(self, x):\n",
    "        x = F.relu(self.conv1(x))\n",
    "        x = F.max_pool2d(x, 2, 2)\n",
    "        x = F.relu(self.conv2(x))\n",
    "        x = F.max_pool2d(x, 2, 2)\n",
    "        x = x.view(-1, 4*4*50)\n",
    "        x = F.relu(self.fc1(x))\n",
    "        x = self.fc2(x)\n",
    "        return F.log_softmax(x, dim=1)"
   ]
  },
  {
   "cell_type": "code",
   "execution_count": 4,
   "metadata": {},
   "outputs": [],
   "source": [
    "def train(model, device, train_loader, optimizer, epoch):\n",
    "    model.train()\n",
    "    for batch_idx, (data, target) in enumerate(train_loader):\n",
    "        data, target = data.to(device), target.to(device)\n",
    "        optimizer.zero_grad()\n",
    "        output = model(data)\n",
    "        loss = F.nll_loss(output, target)\n",
    "        loss.backward()\n",
    "        optimizer.step()\n",
    "        if batch_idx % log_interval == 0:\n",
    "            print('Train Epoch: {} [{}/{} ({:.0f}%)]\\tLoss: {:.6f}'.format(\n",
    "                epoch, batch_idx * len(data), len(train_loader.dataset),\n",
    "                100. * batch_idx / len(train_loader), loss.item()))\n",
    "\n",
    "def test(model, device, test_loader):\n",
    "    model.eval()\n",
    "    test_loss = 0\n",
    "    correct = 0\n",
    "    with torch.no_grad():\n",
    "        for data, target in test_loader:\n",
    "            data, target = data.to(device), target.to(device)\n",
    "            output = model(data)\n",
    "            test_loss += F.nll_loss(output, target, reduction='sum').item() # sum up batch loss\n",
    "            pred = output.argmax(dim=1, keepdim=True) # get the index of the max log-probability\n",
    "            correct += pred.eq(target.view_as(pred)).sum().item()\n",
    "\n",
    "    test_loss /= len(test_loader.dataset)\n",
    "\n",
    "    print('\\nTest set: Average loss: {:.4f}, Accuracy: {}/{} ({:.0f}%)\\n'.format(\n",
    "        test_loss, correct, len(test_loader.dataset),\n",
    "        100. * correct / len(test_loader.dataset)))"
   ]
  },
  {
   "cell_type": "code",
   "execution_count": 5,
   "metadata": {},
   "outputs": [],
   "source": [
    "input_size=(1,28,28,)\n",
    "batch_size=64\n",
    "test_batch_size=1000\n",
    "seed=1101"
   ]
  },
  {
   "cell_type": "code",
   "execution_count": 6,
   "metadata": {},
   "outputs": [],
   "source": [
    "use_cuda = torch.cuda.is_available()\n",
    "torch.manual_seed(seed)\n",
    "device = torch.device(\"cuda\" if use_cuda else \"cpu\")\n",
    "kwargs = {'num_workers': 1, 'pin_memory': True} if use_cuda else {}"
   ]
  },
  {
   "cell_type": "code",
   "execution_count": 7,
   "metadata": {},
   "outputs": [],
   "source": [
    "train_loader = torch.utils.data.DataLoader(\n",
    "        datasets.KMNIST('../data', train=True, download=True,\n",
    "                       transform=transforms.Compose([\n",
    "                           transforms.ToTensor(),\n",
    "                           transforms.Normalize((0.1307,), (0.3081,))\n",
    "                       ])),\n",
    "        batch_size=batch_size, shuffle=True, **kwargs)\n",
    "test_loader = torch.utils.data.DataLoader(\n",
    "        datasets.KMNIST('../data', train=False, transform=transforms.Compose([\n",
    "                           transforms.ToTensor(),\n",
    "                           transforms.Normalize((0.1307,), (0.3081,))\n",
    "                       ])),\n",
    "        batch_size=test_batch_size, shuffle=True, **kwargs)"
   ]
  },
  {
   "cell_type": "code",
   "execution_count": 8,
   "metadata": {},
   "outputs": [],
   "source": [
    "model = Net().to(device)"
   ]
  },
  {
   "cell_type": "code",
   "execution_count": 9,
   "metadata": {},
   "outputs": [
    {
     "name": "stdout",
     "output_type": "stream",
     "text": [
      "----------------------------------------------------------------\n",
      "        Layer (type)               Output Shape         Param #\n",
      "================================================================\n",
      "            Conv2d-1           [-1, 20, 24, 24]             520\n",
      "            Conv2d-2             [-1, 50, 8, 8]          25,050\n",
      "            Linear-3                  [-1, 500]         400,500\n",
      "            Linear-4                   [-1, 10]           5,010\n",
      "================================================================\n",
      "Total params: 431,080\n",
      "Trainable params: 431,080\n",
      "Non-trainable params: 0\n",
      "----------------------------------------------------------------\n",
      "Input size (MB): 0.00\n",
      "Forward/backward pass size (MB): 0.12\n",
      "Params size (MB): 1.64\n",
      "Estimated Total Size (MB): 1.76\n",
      "----------------------------------------------------------------\n"
     ]
    }
   ],
   "source": [
    "summary(model,input_size)"
   ]
  },
  {
   "cell_type": "code",
   "execution_count": 10,
   "metadata": {},
   "outputs": [
    {
     "data": {
      "text/plain": [
       "Net(\n",
       "  (conv1): Conv2d(1, 20, kernel_size=(5, 5), stride=(1, 1))\n",
       "  (conv2): Conv2d(20, 50, kernel_size=(5, 5), stride=(1, 1))\n",
       "  (fc1): Linear(in_features=800, out_features=500, bias=True)\n",
       "  (fc2): Linear(in_features=500, out_features=10, bias=True)\n",
       ")"
      ]
     },
     "execution_count": 10,
     "metadata": {},
     "output_type": "execute_result"
    }
   ],
   "source": [
    "model.load_state_dict(torch.load('mnist_cnn.pt'))\n",
    "model.eval()"
   ]
  },
  {
   "cell_type": "code",
   "execution_count": 11,
   "metadata": {},
   "outputs": [],
   "source": [
    "inputs,labels = next(iter(test_loader))"
   ]
  },
  {
   "cell_type": "code",
   "execution_count": 12,
   "metadata": {},
   "outputs": [
    {
     "data": {
      "text/plain": [
       "torch.Size([1000, 1, 28, 28])"
      ]
     },
     "execution_count": 12,
     "metadata": {},
     "output_type": "execute_result"
    }
   ],
   "source": [
    "inputs.shape"
   ]
  },
  {
   "cell_type": "code",
   "execution_count": 13,
   "metadata": {},
   "outputs": [
    {
     "data": {
      "image/png": "[encoded data removed]",
      "text/plain": [
       "<Figure size 1080x720 with 30 Axes>"
      ]
     },
     "metadata": {},
     "output_type": "display_data"
    }
   ],
   "source": [
    "fig=plt.figure(figsize=(15,10))\n",
    "for i in range(30):\n",
    "    plt.subplot(5,6,i+1)\n",
    "    plt.imshow(np.squeeze(inputs[i]),cmap='bone')\n",
    "    plt.xticks([])\n",
    "    plt.yticks([])"
   ]
  },
  {
   "cell_type": "code",
   "execution_count": 16,
   "metadata": {},
   "outputs": [
    {
     "name": "stdout",
     "output_type": "stream",
     "text": [
      "acc = 0.086\n"
     ]
    }
   ],
   "source": [
    "output = model(inputs)\n",
    "pred = output.argmax(dim=1, keepdim=True) \n",
    "correct = pred.eq(labels.view_as(pred)).sum().item()\n",
    "print('acc = {}'.format(correct/inputs.shape[0]) )"
   ]
  },
  {
   "cell_type": "code",
   "execution_count": 15,
   "metadata": {},
   "outputs": [],
   "source": [
    "# ... from our Net class\n",
    "#self.fc1 = nn.Linear(4*4*50, 500)\n",
    "#self.fc2 = nn.Linear(500, 10)"
   ]
  },
  {
   "cell_type": "code",
   "execution_count": 21,
   "metadata": {},
   "outputs": [
    {
     "name": "stdout",
     "output_type": "stream",
     "text": [
      "torch.Size([20, 1, 5, 5])\n",
      "torch.Size([20])\n",
      "torch.Size([50, 20, 5, 5])\n",
      "torch.Size([50])\n",
      "torch.Size([500, 800])\n",
      "torch.Size([500])\n",
      "torch.Size([10, 500])\n",
      "torch.Size([10])\n"
     ]
    }
   ],
   "source": [
    "for p in model.parameters():\n",
    "    print(p.shape)"
   ]
  },
  {
   "cell_type": "code",
   "execution_count": 22,
   "metadata": {},
   "outputs": [],
   "source": [
    "for p in model.parameters():\n",
    "    p.requires_grad = False"
   ]
  },
  {
   "cell_type": "code",
   "execution_count": 23,
   "metadata": {},
   "outputs": [
    {
     "data": {
      "text/plain": [
       "Parameter containing:\n",
       "tensor([[ 0.0368,  0.0177,  0.0514,  ..., -0.0677, -0.0038, -0.0260],\n",
       "        [ 0.0622,  0.0171, -0.0215,  ...,  0.0587, -0.0119,  0.0519],\n",
       "        [-0.0541,  0.0312,  0.0295,  ...,  0.0866, -0.0999, -0.0542],\n",
       "        ...,\n",
       "        [ 0.0391,  0.0551,  0.0057,  ...,  0.0392, -0.0121,  0.0594],\n",
       "        [-0.0261, -0.0312, -0.0203,  ...,  0.0133,  0.0337, -0.0277],\n",
       "        [-0.0369,  0.0372,  0.0052,  ..., -0.0538, -0.0175, -0.0228]])"
      ]
     },
     "execution_count": 23,
     "metadata": {},
     "output_type": "execute_result"
    }
   ],
   "source": [
    "list(model.parameters())[-2]"
   ]
  },
  {
   "cell_type": "code",
   "execution_count": 24,
   "metadata": {},
   "outputs": [],
   "source": [
    "model.fc2 = nn.Linear(500,10)"
   ]
  },
  {
   "cell_type": "code",
   "execution_count": 25,
   "metadata": {},
   "outputs": [
    {
     "name": "stdout",
     "output_type": "stream",
     "text": [
      "False\n",
      "False\n",
      "False\n",
      "False\n",
      "False\n",
      "False\n",
      "True\n",
      "True\n"
     ]
    }
   ],
   "source": [
    "for p in model.parameters():\n",
    "    print(p.requires_grad)"
   ]
  },
  {
   "cell_type": "code",
   "execution_count": 26,
   "metadata": {},
   "outputs": [
    {
     "data": {
      "text/plain": [
       "Parameter containing:\n",
       "tensor([[ 0.0142,  0.0306,  0.0379,  ..., -0.0265,  0.0400,  0.0020],\n",
       "        [-0.0053, -0.0210, -0.0257,  ...,  0.0028, -0.0294, -0.0403],\n",
       "        [-0.0167, -0.0260,  0.0168,  ...,  0.0073,  0.0196,  0.0241],\n",
       "        ...,\n",
       "        [ 0.0362, -0.0337,  0.0159,  ..., -0.0190,  0.0214, -0.0198],\n",
       "        [-0.0126,  0.0175, -0.0238,  ...,  0.0161,  0.0248, -0.0263],\n",
       "        [ 0.0102,  0.0036,  0.0030,  ...,  0.0149,  0.0039,  0.0313]],\n",
       "       requires_grad=True)"
      ]
     },
     "execution_count": 26,
     "metadata": {},
     "output_type": "execute_result"
    }
   ],
   "source": [
    "list(model.parameters())[-2]"
   ]
  },
  {
   "cell_type": "code",
   "execution_count": 27,
   "metadata": {},
   "outputs": [
    {
     "name": "stdout",
     "output_type": "stream",
     "text": [
      "torch.Size([20, 1, 5, 5]) False\n",
      "torch.Size([20]) False\n",
      "torch.Size([50, 20, 5, 5]) False\n",
      "torch.Size([50]) False\n",
      "torch.Size([500, 800]) False\n",
      "torch.Size([500]) False\n",
      "torch.Size([10, 500]) True\n",
      "torch.Size([10]) True\n"
     ]
    }
   ],
   "source": [
    "for p in model.parameters():\n",
    "    print(p.shape,p.requires_grad)"
   ]
  },
  {
   "cell_type": "code",
   "execution_count": 28,
   "metadata": {},
   "outputs": [],
   "source": [
    "epochs=10\n",
    "lr=0.01\n",
    "momentum=0.0\n",
    "seed=1\n",
    "log_interval=100\n",
    "optimizer = optim.SGD(model.parameters(), lr=lr, momentum=momentum)\n",
    "save=False"
   ]
  },
  {
   "cell_type": "code",
   "execution_count": 29,
   "metadata": {},
   "outputs": [
    {
     "name": "stdout",
     "output_type": "stream",
     "text": [
      "Train Epoch: 1 [0/60000 (0%)]\tLoss: 3.127351\n",
      "Train Epoch: 1 [6400/60000 (11%)]\tLoss: 0.921709\n",
      "Train Epoch: 1 [12800/60000 (21%)]\tLoss: 0.652246\n",
      "Train Epoch: 1 [19200/60000 (32%)]\tLoss: 0.541739\n",
      "Train Epoch: 1 [25600/60000 (43%)]\tLoss: 0.528073\n",
      "Train Epoch: 1 [32000/60000 (53%)]\tLoss: 0.525385\n",
      "Train Epoch: 1 [38400/60000 (64%)]\tLoss: 0.418169\n",
      "Train Epoch: 1 [44800/60000 (75%)]\tLoss: 0.484426\n",
      "Train Epoch: 1 [51200/60000 (85%)]\tLoss: 0.387624\n",
      "Train Epoch: 1 [57600/60000 (96%)]\tLoss: 0.345637\n",
      "\n",
      "Test set: Average loss: 0.8310, Accuracy: 7429/10000 (74%)\n",
      "\n",
      "Train Epoch: 2 [0/60000 (0%)]\tLoss: 0.453829\n",
      "Train Epoch: 2 [6400/60000 (11%)]\tLoss: 0.402525\n",
      "Train Epoch: 2 [12800/60000 (21%)]\tLoss: 0.426672\n",
      "Train Epoch: 2 [19200/60000 (32%)]\tLoss: 0.463216\n",
      "Train Epoch: 2 [25600/60000 (43%)]\tLoss: 0.429918\n",
      "Train Epoch: 2 [32000/60000 (53%)]\tLoss: 0.366581\n",
      "Train Epoch: 2 [38400/60000 (64%)]\tLoss: 0.384006\n",
      "Train Epoch: 2 [44800/60000 (75%)]\tLoss: 0.420050\n",
      "Train Epoch: 2 [51200/60000 (85%)]\tLoss: 0.251736\n",
      "Train Epoch: 2 [57600/60000 (96%)]\tLoss: 0.390388\n",
      "\n",
      "Test set: Average loss: 0.7204, Accuracy: 7812/10000 (78%)\n",
      "\n",
      "Train Epoch: 3 [0/60000 (0%)]\tLoss: 0.346406\n",
      "Train Epoch: 3 [6400/60000 (11%)]\tLoss: 0.254231\n",
      "Train Epoch: 3 [12800/60000 (21%)]\tLoss: 0.294747\n",
      "Train Epoch: 3 [19200/60000 (32%)]\tLoss: 0.295138\n",
      "Train Epoch: 3 [25600/60000 (43%)]\tLoss: 0.310516\n",
      "Train Epoch: 3 [32000/60000 (53%)]\tLoss: 0.345764\n",
      "Train Epoch: 3 [38400/60000 (64%)]\tLoss: 0.288386\n",
      "Train Epoch: 3 [44800/60000 (75%)]\tLoss: 0.198064\n",
      "Train Epoch: 3 [51200/60000 (85%)]\tLoss: 0.282979\n",
      "Train Epoch: 3 [57600/60000 (96%)]\tLoss: 0.446999\n",
      "\n",
      "Test set: Average loss: 0.6660, Accuracy: 7962/10000 (80%)\n",
      "\n",
      "Train Epoch: 4 [0/60000 (0%)]\tLoss: 0.221319\n",
      "Train Epoch: 4 [6400/60000 (11%)]\tLoss: 0.232336\n",
      "Train Epoch: 4 [12800/60000 (21%)]\tLoss: 0.168677\n",
      "Train Epoch: 4 [19200/60000 (32%)]\tLoss: 0.321208\n",
      "Train Epoch: 4 [25600/60000 (43%)]\tLoss: 0.253146\n",
      "Train Epoch: 4 [32000/60000 (53%)]\tLoss: 0.326146\n",
      "Train Epoch: 4 [38400/60000 (64%)]\tLoss: 0.442762\n",
      "Train Epoch: 4 [44800/60000 (75%)]\tLoss: 0.298416\n",
      "Train Epoch: 4 [51200/60000 (85%)]\tLoss: 0.250997\n",
      "Train Epoch: 4 [57600/60000 (96%)]\tLoss: 0.316877\n",
      "\n",
      "Test set: Average loss: 0.6277, Accuracy: 8066/10000 (81%)\n",
      "\n",
      "Train Epoch: 5 [0/60000 (0%)]\tLoss: 0.323967\n",
      "Train Epoch: 5 [6400/60000 (11%)]\tLoss: 0.429536\n",
      "Train Epoch: 5 [12800/60000 (21%)]\tLoss: 0.217644\n",
      "Train Epoch: 5 [19200/60000 (32%)]\tLoss: 0.183933\n",
      "Train Epoch: 5 [25600/60000 (43%)]\tLoss: 0.291857\n",
      "Train Epoch: 5 [32000/60000 (53%)]\tLoss: 0.310576\n",
      "Train Epoch: 5 [38400/60000 (64%)]\tLoss: 0.125358\n",
      "Train Epoch: 5 [44800/60000 (75%)]\tLoss: 0.221327\n",
      "Train Epoch: 5 [51200/60000 (85%)]\tLoss: 0.359756\n",
      "Train Epoch: 5 [57600/60000 (96%)]\tLoss: 0.162903\n",
      "\n",
      "Test set: Average loss: 0.6047, Accuracy: 8144/10000 (81%)\n",
      "\n",
      "Train Epoch: 6 [0/60000 (0%)]\tLoss: 0.321267\n",
      "Train Epoch: 6 [6400/60000 (11%)]\tLoss: 0.269222\n",
      "Train Epoch: 6 [12800/60000 (21%)]\tLoss: 0.171088\n",
      "Train Epoch: 6 [19200/60000 (32%)]\tLoss: 0.296960\n",
      "Train Epoch: 6 [25600/60000 (43%)]\tLoss: 0.190719\n",
      "Train Epoch: 6 [32000/60000 (53%)]\tLoss: 0.213902\n",
      "Train Epoch: 6 [38400/60000 (64%)]\tLoss: 0.512066\n",
      "Train Epoch: 6 [44800/60000 (75%)]\tLoss: 0.240784\n",
      "Train Epoch: 6 [51200/60000 (85%)]\tLoss: 0.261766\n",
      "Train Epoch: 6 [57600/60000 (96%)]\tLoss: 0.340670\n",
      "\n",
      "Test set: Average loss: 0.5822, Accuracy: 8219/10000 (82%)\n",
      "\n",
      "Train Epoch: 7 [0/60000 (0%)]\tLoss: 0.131077\n",
      "Train Epoch: 7 [6400/60000 (11%)]\tLoss: 0.363861\n",
      "Train Epoch: 7 [12800/60000 (21%)]\tLoss: 0.126918\n",
      "Train Epoch: 7 [19200/60000 (32%)]\tLoss: 0.233742\n",
      "Train Epoch: 7 [25600/60000 (43%)]\tLoss: 0.294599\n",
      "Train Epoch: 7 [32000/60000 (53%)]\tLoss: 0.128687\n",
      "Train Epoch: 7 [38400/60000 (64%)]\tLoss: 0.235651\n",
      "Train Epoch: 7 [44800/60000 (75%)]\tLoss: 0.109492\n",
      "Train Epoch: 7 [51200/60000 (85%)]\tLoss: 0.320256\n",
      "Train Epoch: 7 [57600/60000 (96%)]\tLoss: 0.221222\n",
      "\n",
      "Test set: Average loss: 0.5693, Accuracy: 8252/10000 (83%)\n",
      "\n",
      "Train Epoch: 8 [0/60000 (0%)]\tLoss: 0.255130\n",
      "Train Epoch: 8 [6400/60000 (11%)]\tLoss: 0.229830\n",
      "Train Epoch: 8 [12800/60000 (21%)]\tLoss: 0.123508\n",
      "Train Epoch: 8 [19200/60000 (32%)]\tLoss: 0.172857\n",
      "Train Epoch: 8 [25600/60000 (43%)]\tLoss: 0.267657\n",
      "Train Epoch: 8 [32000/60000 (53%)]\tLoss: 0.177992\n",
      "Train Epoch: 8 [38400/60000 (64%)]\tLoss: 0.201924\n",
      "Train Epoch: 8 [44800/60000 (75%)]\tLoss: 0.196416\n",
      "Train Epoch: 8 [51200/60000 (85%)]\tLoss: 0.228429\n",
      "Train Epoch: 8 [57600/60000 (96%)]\tLoss: 0.194690\n",
      "\n",
      "Test set: Average loss: 0.5612, Accuracy: 8264/10000 (83%)\n",
      "\n",
      "Train Epoch: 9 [0/60000 (0%)]\tLoss: 0.313349\n",
      "Train Epoch: 9 [6400/60000 (11%)]\tLoss: 0.229023\n",
      "Train Epoch: 9 [12800/60000 (21%)]\tLoss: 0.349471\n",
      "Train Epoch: 9 [19200/60000 (32%)]\tLoss: 0.318337\n",
      "Train Epoch: 9 [25600/60000 (43%)]\tLoss: 0.061007\n",
      "Train Epoch: 9 [32000/60000 (53%)]\tLoss: 0.123369\n",
      "Train Epoch: 9 [38400/60000 (64%)]\tLoss: 0.228545\n",
      "Train Epoch: 9 [44800/60000 (75%)]\tLoss: 0.187701\n",
      "Train Epoch: 9 [51200/60000 (85%)]\tLoss: 0.145672\n",
      "Train Epoch: 9 [57600/60000 (96%)]\tLoss: 0.257261\n",
      "\n",
      "Test set: Average loss: 0.5398, Accuracy: 8350/10000 (84%)\n",
      "\n",
      "Train Epoch: 10 [0/60000 (0%)]\tLoss: 0.210887\n",
      "Train Epoch: 10 [6400/60000 (11%)]\tLoss: 0.170596\n",
      "Train Epoch: 10 [12800/60000 (21%)]\tLoss: 0.341570\n",
      "Train Epoch: 10 [19200/60000 (32%)]\tLoss: 0.225945\n",
      "Train Epoch: 10 [25600/60000 (43%)]\tLoss: 0.225346\n",
      "Train Epoch: 10 [32000/60000 (53%)]\tLoss: 0.146541\n",
      "Train Epoch: 10 [38400/60000 (64%)]\tLoss: 0.252748\n",
      "Train Epoch: 10 [44800/60000 (75%)]\tLoss: 0.382320\n",
      "Train Epoch: 10 [51200/60000 (85%)]\tLoss: 0.140763\n",
      "Train Epoch: 10 [57600/60000 (96%)]\tLoss: 0.145368\n",
      "\n",
      "Test set: Average loss: 0.5309, Accuracy: 8387/10000 (84%)\n",
      "\n"
     ]
    }
   ],
   "source": [
    "for epoch in range(1, epochs + 1):\n",
    "    train(model, device, train_loader, optimizer, epoch)\n",
    "    test(model, device, test_loader)\n",
    "    \n",
    "if save:\n",
    "    torch.save(model.state_dict(),\"kmnist_trans_fc2.pt\")"
   ]
  },
  {
   "cell_type": "markdown",
   "metadata": {},
   "source": [
    "# Exercise\n",
    "\n",
    "Experiment *freely* with these topics (the only mandatory is the second one):\n",
    "\n",
    "- extension of random initialization to the second last hidden layer\n",
    "- monitor test and train loss and accuracy: does the model overfit?\n",
    "- change learning rate and/or momentum\n",
    "- regularize it with dropout (*)\n",
    "\n",
    "(*) You will have to redefine the Net class, adding the dropout layers after the feature extractions (after the second max pooling layer) and after fully connected fc1. Take inspiration from this architecture https://github.com/keras-team/keras/blob/master/examples/mnist_cnn.py (which is written in Keras, by the way). Then you have to re-train the model on MNIST and experiment again with transfer learning on KMNIST."
   ]
  },
  {
   "cell_type": "markdown",
   "metadata": {},
   "source": [
    "# Intrinsic dimensionality\n",
    "\n",
    "Let's see how different these two datasets are. We look at their intrinsic dimension. Let us make a guess:\n",
    "what is the ID of MNIST? and that of KMNIST?"
   ]
  },
  {
   "cell_type": "code",
   "execution_count": 24,
   "metadata": {},
   "outputs": [],
   "source": [
    "nsamples=5000\n",
    "sampleKMNISTloader = torch.utils.data.DataLoader(\n",
    "        datasets.KMNIST('../data', train=False, transform=transforms.Compose([\n",
    "                           transforms.ToTensor(),\n",
    "                           transforms.Normalize((0.1307,), (0.3081,))\n",
    "                       ])),\n",
    "        batch_size=nsamples, shuffle=True, **kwargs)\n",
    "\n",
    "sampleMNISTloader = torch.utils.data.DataLoader(\n",
    "        datasets.MNIST('../data', train=False, transform=transforms.Compose([\n",
    "                           transforms.ToTensor(),\n",
    "                           transforms.Normalize((0.1307,), (0.3081,))\n",
    "                       ])),\n",
    "        batch_size=nsamples, shuffle=True, **kwargs)"
   ]
  },
  {
   "cell_type": "code",
   "execution_count": 25,
   "metadata": {},
   "outputs": [],
   "source": [
    "sample_kmnist,_ = next(iter(sampleKMNISTloader))\n",
    "sample_mnist,_ = next(iter(sampleMNISTloader))"
   ]
  },
  {
   "cell_type": "code",
   "execution_count": 26,
   "metadata": {},
   "outputs": [],
   "source": [
    "from intrinsic_dimension import estimate,block_analysis"
   ]
  },
  {
   "cell_type": "code",
   "execution_count": 27,
   "metadata": {},
   "outputs": [
    {
     "name": "stdout",
     "output_type": "stream",
     "text": [
      "torch.Size([5000, 1, 28, 28])\n",
      "torch.Size([5000, 1, 28, 28])\n"
     ]
    }
   ],
   "source": [
    "print(sample_kmnist.shape)\n",
    "print(sample_mnist.shape)"
   ]
  },
  {
   "cell_type": "code",
   "execution_count": 28,
   "metadata": {},
   "outputs": [],
   "source": [
    "sample_kmnist = np.reshape(np.squeeze(sample_kmnist), (nsamples, -1) )\n",
    "sample_mnist = np.reshape(np.squeeze(sample_mnist), (nsamples, -1) )"
   ]
  },
  {
   "cell_type": "code",
   "execution_count": 29,
   "metadata": {},
   "outputs": [],
   "source": [
    "from scipy.spatial.distance import pdist,squareform"
   ]
  },
  {
   "cell_type": "code",
   "execution_count": 30,
   "metadata": {},
   "outputs": [],
   "source": [
    "#?estimate"
   ]
  },
  {
   "cell_type": "code",
   "execution_count": 31,
   "metadata": {},
   "outputs": [
    {
     "name": "stdout",
     "output_type": "stream",
     "text": [
      "Found n. 0 elements for which r1 = 0\n",
      "[]\n",
      "Found n. 0 elements for which r1 = r2\n",
      "[]\n",
      "Fraction good points: 1.0\n",
      "Found n. 0 elements for which r1 = 0\n",
      "[]\n",
      "Found n. 0 elements for which r1 = r2\n",
      "[]\n",
      "Fraction good points: 1.0\n"
     ]
    }
   ],
   "source": [
    "kmnist_est = estimate(squareform(pdist(sample_kmnist)), verbose=True)\n",
    "mnist_est = estimate(squareform(pdist(sample_mnist)), verbose=True)"
   ]
  },
  {
   "cell_type": "code",
   "execution_count": 32,
   "metadata": {},
   "outputs": [
    {
     "name": "stdout",
     "output_type": "stream",
     "text": [
      "17.046234115673734\n"
     ]
    }
   ],
   "source": [
    "print(kmnist_est[2])"
   ]
  },
  {
   "cell_type": "code",
   "execution_count": 33,
   "metadata": {},
   "outputs": [
    {
     "name": "stdout",
     "output_type": "stream",
     "text": [
      "12.755779418284677\n"
     ]
    }
   ],
   "source": [
    "print(mnist_est[2])"
   ]
  },
  {
   "cell_type": "code",
   "execution_count": 34,
   "metadata": {},
   "outputs": [],
   "source": [
    "?block_analysis"
   ]
  },
  {
   "cell_type": "code",
   "execution_count": 35,
   "metadata": {},
   "outputs": [],
   "source": [
    "kmnist_ba = block_analysis(squareform(pdist(sample_kmnist)))\n",
    "mnist_ba = block_analysis(squareform(pdist(sample_mnist)))"
   ]
  },
  {
   "cell_type": "code",
   "execution_count": 36,
   "metadata": {},
   "outputs": [
    {
     "data": {
      "image/png": "[encoded data removed]",
      "text/plain": [
       "<Figure size 360x360 with 1 Axes>"
      ]
     },
     "metadata": {
      "needs_background": "light"
     },
     "output_type": "display_data"
    }
   ],
   "source": [
    "fig=plt.figure(figsize=(5,5))\n",
    "plt.errorbar(kmnist_ba[2][::-1],kmnist_ba[0],yerr=kmnist_ba[1],label='KMNIST')\n",
    "plt.errorbar(mnist_ba[2][::-1],mnist_ba[0],yerr=mnist_ba[1],label='MNIST')\n",
    "plt.xlabel('n. of samples')\n",
    "plt.ylabel('ID')\n",
    "plt.legend()\n",
    "plt.savefig('KMNIST_ID.png')\n",
    "plt.show()"
   ]
  },
  {
   "cell_type": "markdown",
   "metadata": {},
   "source": [
    "# Readings\n",
    "\n",
    "- https://pytorch.org/tutorials/beginner/finetuning_torchvision_models_tutorial.html\n",
    "- https://towardsdatascience.com/getting-started-with-google-colab-f2fff97f594c\n",
    "\n",
    "# Excercise\n",
    "\n",
    "Run the notebook on colab and play with it"
   ]
  }
 ],
 "metadata": {
  "kernelspec": {
   "display_name": "Python 3",
   "language": "python",
   "name": "python3"
  },
  "language_info": {
   "codemirror_mode": {
    "name": "ipython",
    "version": 3
   },
   "file_extension": ".py",
   "mimetype": "text/x-python",
   "name": "python",
   "nbconvert_exporter": "python",
   "pygments_lexer": "ipython3",
   "version": "3.7.3"
  }
 },
 "nbformat": 4,
 "nbformat_minor": 2
}
