{
 "cells": [
  {
   "cell_type": "markdown",
   "metadata": {},
   "source": [
    "# MNIST\n",
    "\n",
    "Training of a small MLP on MNIST with a custom loss function, for example the Minkowski loss."
   ]
  },
  {
   "cell_type": "code",
   "execution_count": null,
   "metadata": {},
   "outputs": [],
   "source": [
    "%matplotlib inline\n",
    "%load_ext autoreload\n",
    "%autoreload 2"
   ]
  },
  {
   "cell_type": "code",
   "execution_count": null,
   "metadata": {},
   "outputs": [],
   "source": [
    "import numpy as np\n",
    "from matplotlib import pyplot as plt"
   ]
  },
  {
   "cell_type": "code",
   "execution_count": null,
   "metadata": {},
   "outputs": [],
   "source": [
    "from __future__ import print_function\n",
    "import argparse\n",
    "import torch\n",
    "import torch.nn as nn\n",
    "import torch.nn.functional as F\n",
    "import torch.optim as optim\n",
    "from torchvision import datasets, transforms"
   ]
  },
  {
   "cell_type": "code",
   "execution_count": null,
   "metadata": {},
   "outputs": [],
   "source": [
    "# Training settings\n",
    "batch_size=64\n",
    "epochs=10\n",
    "lr=0.01\n",
    "momentum=0.0\n",
    "seed=1101\n",
    "\n",
    "din=784\n",
    "dout=10\n",
    "dh=50\n",
    "\n",
    "nbatches=30 # n.batches to evaluate statistics"
   ]
  },
  {
   "cell_type": "code",
   "execution_count": null,
   "metadata": {},
   "outputs": [],
   "source": [
    "class Net(nn.Module):\n",
    "    def __init__(self,din=784, dh=30, dout=10):\n",
    "        super(Net, self).__init__()\n",
    "        \n",
    "        self.lin1 = nn.Linear(din, dh)\n",
    "        self.lin2 = nn.Linear(dh, dout)\n",
    "    \n",
    "    def forward(self, x):    \n",
    "        x = torch.sigmoid(self.lin1(x)) \n",
    "        return self.lin2(x)"
   ]
  },
  {
   "cell_type": "markdown",
   "metadata": {},
   "source": [
    "# Exercise: a new loss function\n",
    "\n",
    "Try to use a Minkowski loss with parameter q\n",
    "\n",
    "$$\n",
    "d_q(x,y) = \\left( \\sum_i (x_i - y_i )^q \\right)^{1/q}\n",
    "$$\n",
    "\n",
    "the only goal here is to learn how to define a new loss.\n",
    "The class MinkowskiLoss receives a minibatch of data and \n",
    "returns the average Minkowski distance over a minibatch.\n",
    "\n",
    "The way outlined is just one way, you could imagine other ways too."
   ]
  },
  {
   "cell_type": "code",
   "execution_count": null,
   "metadata": {},
   "outputs": [],
   "source": [
    "class MinkowskiLoss(torch.nn.Module):\n",
    "    def __init__(self,q):\n",
    "        super(MinkowskiLoss,self).__init__()\n",
    "        self.q = q\n",
    "        \n",
    "    def forward(self,x,y):\n",
    "        ...\n",
    "        return loss"
   ]
  },
  {
   "cell_type": "code",
   "execution_count": null,
   "metadata": {},
   "outputs": [],
   "source": [
    "q = 6\n",
    "criterion = MinkowskiLoss(q)"
   ]
  },
  {
   "cell_type": "code",
   "execution_count": null,
   "metadata": {},
   "outputs": [],
   "source": [
    "def train(model, device, train_loader, optimizer, epoch):\n",
    "    model.train()\n",
    "    \n",
    "\n",
    "    for batch_idx, (data, target) in enumerate(train_loader):\n",
    "        \n",
    "       \n",
    "        data, target = data.to(device), target.to(device)\n",
    "                \n",
    "        data = data.view(-1,784) # *\n",
    "        target = target.view(-1,1) # *\n",
    "        onehot = torch.FloatTensor(data.shape[0], 10).zero_().to(device) # *\n",
    "        onehot.scatter_(1, target, 1) # *\n",
    "        target = onehot # *\n",
    "    \n",
    "        optimizer.zero_grad()\n",
    "        output = model(data)    \n",
    "        loss = criterion(output, target)\n",
    "    \n",
    "        \n",
    "        loss.backward()\n",
    "        optimizer.step()"
   ]
  },
  {
   "cell_type": "code",
   "execution_count": null,
   "metadata": {},
   "outputs": [],
   "source": [
    "def stats(model, device, loader, nsamples=batch_size*nbatches):\n",
    "    \n",
    "    model.eval() \n",
    "    \n",
    "    loss = 0\n",
    "    correct = 0\n",
    "    count = 0\n",
    "    \n",
    "    origin = 'train' if loader.dataset.train else 'test'\n",
    "    \n",
    "    with torch.no_grad():\n",
    "        \n",
    "        for data, target in loader:\n",
    "            \n",
    "            count += data.shape[0]\n",
    "                \n",
    "            if count > nsamples:\n",
    "                break\n",
    "                \n",
    "            data, target = data.to(device), target.to(device)     \n",
    "            \n",
    "            \n",
    "            data = data.view(-1,784) # *\n",
    "            target = target.view(-1,1) # *\n",
    "            onehot = torch.FloatTensor(data.shape[0], 10).zero_().to(device) # *\n",
    "            onehot.scatter_(1, target, 1) # *\n",
    "            \n",
    "    \n",
    "            output = model(data)\n",
    "            \n",
    "            loss += criterion(output, onehot).item()\n",
    "            pred = output.argmax(dim=1, keepdim=True) # get the index of the max log-probability\n",
    "            correct += pred.eq(target.view_as(pred)).sum().item()\n",
    "\n",
    "    loss /= count  \n",
    "    acc = 100. * correct / count\n",
    "    \n",
    "\n",
    "    print('\\n{} set: Average loss: {:.4f}, Accuracy: {}/{} ({:.0f}%)\\n'.format(origin,\n",
    "        loss, correct, count,\n",
    "        acc ) )\n",
    "    \n",
    "    \n",
    "    return loss,acc"
   ]
  },
  {
   "cell_type": "code",
   "execution_count": null,
   "metadata": {},
   "outputs": [],
   "source": [
    "use_cuda = torch.cuda.is_available()\n",
    "torch.manual_seed(seed)\n",
    "device = torch.device(\"cuda\" if use_cuda else \"cpu\")\n",
    "kwargs = {'num_workers': 1, 'pin_memory': True} if use_cuda else {}"
   ]
  },
  {
   "cell_type": "code",
   "execution_count": null,
   "metadata": {},
   "outputs": [],
   "source": [
    "train_loader = torch.utils.data.DataLoader(\n",
    "        datasets.MNIST('../data', train=True, download=True,\n",
    "                       transform=transforms.Compose([\n",
    "                           transforms.ToTensor(),\n",
    "                           transforms.Normalize((0.1307,), (0.3081,))\n",
    "                       ])),\n",
    "        batch_size=batch_size, shuffle=True, **kwargs)\n",
    "test_loader = torch.utils.data.DataLoader(\n",
    "        datasets.MNIST('../data', train=False, transform=transforms.Compose([\n",
    "                           transforms.ToTensor(),\n",
    "                           transforms.Normalize((0.1307,), (0.3081,))\n",
    "                       ])),\n",
    "        batch_size=batch_size, shuffle=True, **kwargs)"
   ]
  },
  {
   "cell_type": "code",
   "execution_count": null,
   "metadata": {},
   "outputs": [],
   "source": [
    "model = Net(din,dh,dout).to(device)\n",
    "optimizer = optim.SGD(model.parameters(), lr=lr, momentum=momentum)"
   ]
  },
  {
   "cell_type": "code",
   "execution_count": null,
   "metadata": {},
   "outputs": [],
   "source": [
    "train_stats = []\n",
    "test_stats = []\n",
    "\n",
    "for epoch in range(1, epochs + 1):\n",
    "    \n",
    "    train(model, device, train_loader, optimizer, epoch)\n",
    "    \n",
    "    train_stats.append(stats(model, device, train_loader))\n",
    "    test_stats.append(stats(model, device, test_loader))\n",
    "    \n",
    "train_stats = np.array(train_stats)\n",
    "test_stats = np.array(test_stats)"
   ]
  },
  {
   "cell_type": "code",
   "execution_count": null,
   "metadata": {},
   "outputs": [],
   "source": [
    "fig=plt.figure(figsize=(10,5))\n",
    "\n",
    "plt.subplot(121)\n",
    "plt.plot(train_stats[:,0],'-k',label='train loss')\n",
    "plt.plot(test_stats[:,0],'-r',label='test loss')\n",
    "plt.xlabel('epoch')\n",
    "plt.ylabel('loss')\n",
    "plt.legend()\n",
    "\n",
    "plt.subplot(122)\n",
    "plt.plot(train_stats[:,1],'-k',label='train acc')\n",
    "plt.plot(test_stats[:,1],'-r',label='test acc')\n",
    "plt.xlabel('epoch')\n",
    "plt.ylabel('acc')\n",
    "plt.legend()\n",
    "\n",
    "\n",
    "plt.show()"
   ]
  }
 ],
 "metadata": {
  "kernelspec": {
   "display_name": "Python 3",
   "language": "python",
   "name": "python3"
  },
  "language_info": {
   "codemirror_mode": {
    "name": "ipython",
    "version": 3
   },
   "file_extension": ".py",
   "mimetype": "text/x-python",
   "name": "python",
   "nbconvert_exporter": "python",
   "pygments_lexer": "ipython3",
   "version": "3.7.3"
  }
 },
 "nbformat": 4,
 "nbformat_minor": 2
}
